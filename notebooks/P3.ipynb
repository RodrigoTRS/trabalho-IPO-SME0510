{
 "cells": [
  {
   "cell_type": "markdown",
   "metadata": {},
   "source": [
    "\n",
    "<h1 style=\"color: #A5FAB0;font-weight: bold\">Parte 3</h1>"
   ]
  },
  {
   "cell_type": "markdown",
   "metadata": {},
   "source": [
    "### Variação do problema do jornaleiro"
   ]
  },
  {
   "cell_type": "markdown",
   "metadata": {},
   "source": [
    "Problemas envolvendo produtos os quais precisam ser vendidos ou utilizados em uma determinada janela de tempo, têm presença constante no dia a dia. Um dos modelos mais conhecidos para esse tipo de situação é o Newsvendor Problem (Problema do Jornaleiro). Variações desse modelo podem ser exemplificadas como"
   ]
  },
  {
   "cell_type": "markdown",
   "metadata": {},
   "source": [
    "<h2 style=\"color: #A5FAB0;font-size: 24px\">\n",
    "Situação 1\n",
    "</h2> "
   ]
  },
  {
   "cell_type": "markdown",
   "metadata": {},
   "source": [
    "Um restaurante que vende marmitas pré-montadas deseja obter um máximo de lucro nas suas vendas, no entanto, eles estão limitados a uma produção máxima diária, se produzirem mais do que a demanda, terão prejuízo, pois a comida vai estragar. O mesmo vale para o caso inverso, pois poderiam ter tido um lucro maior, entretanto, produziram menos que a demanda."
   ]
  },
  {
   "cell_type": "markdown",
   "metadata": {},
   "source": [
    "<h2 style=\"color: #A5FAB0;font-size: 24px\">\n",
    "Situação 2\n",
    "</h2> "
   ]
  },
  {
   "cell_type": "markdown",
   "metadata": {},
   "source": [
    "Uma empresa deseja maximizar o lucro de suas vendas de enfeites na época do Natal, no entanto, se sua produção for muito grande, ela corre o risco de ter prejuízos devido ao fato de que a venda de produtos como esse decai muito fora das proximidades dessa data , fazendo com que os produtos tenham que ser guardados gerando um custo de armazenagem, como também se a sua produção for muito pequena ela perderá a oportunidade de aumentar as suas vendas."
   ]
  },
  {
   "cell_type": "markdown",
   "metadata": {},
   "source": [
    "----\n",
    "\n",
    "<h2 style=\"color: #A5FAB0;font-weight: bold\">Modelagem do problema</h2> "
   ]
  },
  {
   "cell_type": "markdown",
   "metadata": {},
   "source": [
    "#### A modelagem das situações ocorre de forma parecida\n",
    "\n",
    "#### Variáveis:\n",
    "\n",
    "$X =$ Quantidades de marmitas preparadas ou enfeites fabricados\n",
    "\n",
    "$C =$ Custo para produção de uma marmita ou de um enfeite\n",
    "\n",
    "$\\alpha $ = Demanda de marmitas ou enfeites\n",
    "\n",
    "$-Q(X)$ = Lucro esperado das vendas\n",
    "\n",
    "$-Q(X,\\alpha)$ = Lucro obtido com a venda das marmitas ou enfeites para uma certa demanda\n",
    "\n",
    "Note que o valor negativo das duas últimas variáveis indicam que um resultado negativo nas equações é bom, visto que esse passará a ser positivo \n",
    "\n",
    "$E_{\\alpha}$ = Esperança em relação a $\\alpha$\n",
    "\n",
    "$y(\\alpha)$ = Quantas marmitas ou enfeites foram vendidos(as)\n",
    "\n",
    "$b(\\alpha)$ = Quantas marmitas ou enfeites não foram vendidos(as)\n",
    "\n",
    "$q =$ Preço de uma marmita ou enfeite\n",
    "\n",
    "$p =$ Preço de armazenagem de cada enfeite\n",
    "\n",
    "$d =$ Défict no caixa da empresa para cada marmita não vendida"
   ]
  },
  {
   "cell_type": "markdown",
   "metadata": {},
   "source": [
    "<h2 style=\"color: #A5FAB0;font-size: 24px\">\n",
    "Situação 1\n",
    "</h2> "
   ]
  },
  {
   "cell_type": "markdown",
   "metadata": {},
   "source": [
    "\n",
    "#### Função Objetivo:\n",
    "\n",
    "min $[CX + Q(X)]$\n",
    "\n",
    "#### Onde:\n",
    "\n",
    "$Q(X) = E_{\\alpha}[Q(X, \\alpha)]$\n",
    "\n",
    "$Q(X,\\alpha) = $ min $-qy(\\alpha)$ $-db(\\alpha)$\n",
    "\n",
    "#### Restrições:\n",
    "\n",
    "$y(\\alpha) \\leq \\alpha$\n",
    "\n",
    "$y(\\alpha) + b(\\alpha) \\leq X$\n",
    "\n",
    "$y(\\alpha), b(\\alpha) \\geq 0$"
   ]
  },
  {
   "cell_type": "markdown",
   "metadata": {},
   "source": [
    "<h2 style=\"color: #A5FAB0;font-size: 24px\">\n",
    "Situação 2\n",
    "</h2> \n"
   ]
  },
  {
   "cell_type": "markdown",
   "metadata": {},
   "source": [
    "\n",
    "#### Função Objetivo:\n",
    "\n",
    "min $[CX + Q(X)]$\n",
    "\n",
    "#### Onde:\n",
    "\n",
    "$Q(X) = E_{\\alpha}[Q(X, \\alpha)]$\n",
    "\n",
    "$Q(X,\\alpha) = $ min $-q y(\\alpha) - p b(\\alpha)$\n",
    "\n",
    "#### Restrições:\n",
    "\n",
    "$y(\\alpha) \\leq \\alpha$\n",
    "\n",
    "$y(\\alpha) + b(\\alpha) \\leq X$\n",
    "\n",
    "$y(\\alpha), b(\\alpha) \\geq 0$"
   ]
  }
 ],
 "metadata": {
  "kernelspec": {
   "display_name": "base",
   "language": "python",
   "name": "python3"
  },
  "language_info": {
   "codemirror_mode": {
    "name": "ipython",
    "version": 3
   },
   "file_extension": ".py",
   "mimetype": "text/x-python",
   "name": "python",
   "nbconvert_exporter": "python",
   "pygments_lexer": "ipython3",
   "version": "3.11.3"
  }
 },
 "nbformat": 4,
 "nbformat_minor": 2
}
