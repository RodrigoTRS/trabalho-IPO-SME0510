{
 "cells": [
  {
   "cell_type": "markdown",
   "metadata": {},
   "source": [
    "<h1 style=\"color: #A5FAB0;font-weight: bold\">Parte 2</h1>"
   ]
  },
  {
   "cell_type": "markdown",
   "metadata": {},
   "source": [
    "## Problema da Localização de Facilidades P-Centros"
   ]
  },
  {
   "cell_type": "markdown",
   "metadata": {},
   "source": [
    "### Variáveis do problema\n",
    "\n",
    "J : Conjunto de nós j que representam os clientes \n",
    "\n",
    "I : Conjunto de locais i candidatos a localização\n",
    "\n",
    "$q_{i}$ : Demanda do cliente j\n",
    "\n",
    "$c_{ij}$ : Distância do cliente j à facilidade localizada em i\n",
    "\n",
    "$CS_{i}$ : Capacidade mensal de suprimento do CD i (em toneladas)\n",
    "\n",
    "$D_{j}$ : Demanda mensaal da cidade j (em toneladas)\n",
    "\n",
    "$x_{ij}$ : 1 se o cliente j é atendido pela facilidade localizada em i, 0 caso contrário\n",
    "\n",
    "$y_{i}$ : 1 se a facilidade é aberta no local i, 0 caso contrário\n",
    "\n",
    "r : Distância máxima de um cliente quando designado a uma facilidade"
   ]
  },
  {
   "cell_type": "code",
   "execution_count": 1,
   "metadata": {},
   "outputs": [],
   "source": [
    "from itertools import product\n",
    "from math import sqrt\n",
    "import gurobipy as gp\n",
    "from gurobipy import GRB\n",
    "import numpy as np"
   ]
  },
  {
   "cell_type": "markdown",
   "metadata": {},
   "source": [
    "----\n",
    "\n",
    "<h2 style=\"color: #A5FAB0;font-weight: bold\">Instância 1</h2> "
   ]
  },
  {
   "cell_type": "code",
   "execution_count": 2,
   "metadata": {},
   "outputs": [
    {
     "name": "stdout",
     "output_type": "stream",
     "text": [
      "Restricted license - for non-production use only - expires 2024-10-28\n",
      "Gurobi Optimizer version 10.0.2 build v10.0.2rc0 (win64)\n",
      "\n",
      "CPU model: Intel(R) Core(TM) i7-9700KF CPU @ 3.60GHz, instruction set [SSE2|AVX|AVX2]\n",
      "Thread count: 8 physical cores, 8 logical processors, using up to 8 threads\n",
      "\n",
      "Optimize a model with 48 rows, 36 columns and 166 nonzeros\n",
      "Model fingerprint: 0x0644520a\n",
      "Variable types: 0 continuous, 36 integer (35 binary)\n",
      "Coefficient statistics:\n",
      "  Matrix range     [1e+00, 3e+04]\n",
      "  Objective range  [1e+00, 1e+00]\n",
      "  Bounds range     [1e+00, 1e+00]\n",
      "  RHS range        [1e+00, 5e+00]\n",
      "Found heuristic solution: objective 19767.000000\n",
      "Presolve removed 32 rows and 7 columns\n",
      "Presolve time: 0.00s\n",
      "Presolved: 16 rows, 29 columns, 74 nonzeros\n",
      "Variable types: 0 continuous, 29 integer (28 binary)\n",
      "\n",
      "Root relaxation: objective 8.800000e+03, 7 iterations, 0.00 seconds (0.00 work units)\n",
      "\n",
      "    Nodes    |    Current Node    |     Objective Bounds      |     Work\n",
      " Expl Unexpl |  Obj  Depth IntInf | Incumbent    BestBd   Gap | It/Node Time\n",
      "\n",
      "     0     0 8800.00000    0    2 19767.0000 8800.00000  55.5%     -    0s\n",
      "H    0     0                    8800.0000000 8800.00000  0.00%     -    0s\n",
      "     0     0 8800.00000    0    2 8800.00000 8800.00000  0.00%     -    0s\n",
      "\n",
      "Explored 1 nodes (7 simplex iterations) in 0.02 seconds (0.00 work units)\n",
      "Thread count was 8 (of 8 available processors)\n",
      "\n",
      "Solution count 2: 8800 19767 \n",
      "\n",
      "Optimal solution found (tolerance 1.00e-04)\n",
      "Best objective 8.800000000000e+03, best bound 8.800000000000e+03, gap 0.0000%\n"
     ]
    }
   ],
   "source": [
    "P = 5\n",
    "Q = 6\n",
    "\n",
    "#Dados da Instância\n",
    "\n",
    "vCustos = [\n",
    "    [16750, 3200, 8220, 9780, 8120, 30800], \n",
    "    [14600, 15520, 11640, 600, 3465, 13200],\n",
    "    [19250, 19200, 17100, 3000, 6650, 8800],\n",
    "    [3800, 10840, 6516, 6270, 4655, 25531],\n",
    "    [9220, 13168, 8400, 3048, 2177, 19767]\n",
    "]\n",
    "\n",
    "vDemanda = [10, 8, 12, 6, 7, 11]\n",
    "\n",
    "vCapacidade = [18, 24, 27, 22, 31]\n",
    "\n",
    "vCustoFixo = [7650, 3500, 5000, 4100, 2200]\n",
    "\n",
    "# Adicionando os dados em lsitas e dicionários\n",
    "CDs = list()\n",
    "\n",
    "for i in range(P):\n",
    "    CDs.append(f'CD{i + 1}')\n",
    "\n",
    "cidades = list()\n",
    "\n",
    "for i in range(Q):\n",
    "    cidades.append(f'cidade{i + 1}')\n",
    "\n",
    "custos = dict()\n",
    "\n",
    "for i in range(P):\n",
    "    for j in range(Q):\n",
    "        inP = CDs[i]\n",
    "        inQ = cidades[j]\n",
    "        custos[inP, inQ] = vCustos[i][j]\n",
    "\n",
    "demanda = dict()\n",
    "\n",
    "for i in range(Q):\n",
    "    aux = cidades[i]\n",
    "    demanda[aux] = vDemanda[i]\n",
    "\n",
    "capacidade = dict()\n",
    "custoFixo = dict()\n",
    "\n",
    "for i in range(P):\n",
    "    aux = CDs[i]\n",
    "    capacidade[aux] = vCapacidade[i]\n",
    "    custoFixo[aux] = vCustoFixo[i]\n",
    "\n",
    "# Inicializando o modelo de otimização\n",
    "\n",
    "m = gp.Model()\n",
    "\n",
    "# Variáveis do problema\n",
    "x = m.addVars(CDs, cidades, vtype=gp.GRB.BINARY)\n",
    "y = m.addVars(CDs, vtype=gp.GRB.BINARY)\n",
    "r = m.addVar(vtype=GRB.INTEGER, lb=0)\n",
    "\n",
    "# Função Objetivo do problema \n",
    "m.setObjective(r, GRB.MINIMIZE)\n",
    "\n",
    "# Restrições do problema\n",
    "m.addConstrs((r >= gp.quicksum(custos[i, j] * x[i, j] for i in CDs) for j in cidades))\n",
    "m.addConstrs((x[i, j] <= y[i] for i in CDs for j in cidades))\n",
    "m.addConstrs((gp.quicksum(x[i, j] for i in CDs) == 1 for j in cidades))\n",
    "m.addConstrs((gp.quicksum(demanda[j] * x[i, j] for j in cidades) <= capacidade[i] * y[i] for i in CDs))\n",
    "m.addConstr(gp.quicksum(y[i] for i in CDs) == P)\n",
    "\n",
    "m.optimize()"
   ]
  },
  {
   "cell_type": "markdown",
   "metadata": {},
   "source": [
    "Pode-se observar ótima foi encontrada com poucas interações, o que faz sentido dado que trata-se de um problema simples com poucos dados"
   ]
  },
  {
   "cell_type": "markdown",
   "metadata": {},
   "source": [
    "----\n",
    "\n",
    "<h2 style=\"color: #A5FAB0;font-weight: bold\">Instância 2</h2> "
   ]
  },
  {
   "cell_type": "code",
   "execution_count": 3,
   "metadata": {},
   "outputs": [
    {
     "name": "stdout",
     "output_type": "stream",
     "text": [
      "Gurobi Optimizer version 10.0.2 build v10.0.2rc0 (win64)\n",
      "\n",
      "CPU model: Intel(R) Core(TM) i7-9700KF CPU @ 3.60GHz, instruction set [SSE2|AVX|AVX2]\n",
      "Thread count: 8 physical cores, 8 logical processors, using up to 8 threads\n",
      "\n",
      "Optimize a model with 83 rows, 71 columns and 326 nonzeros\n",
      "Model fingerprint: 0x418937fd\n",
      "Variable types: 0 continuous, 71 integer (70 binary)\n",
      "Coefficient statistics:\n",
      "  Matrix range     [1e+00, 3e+04]\n",
      "  Objective range  [1e+00, 1e+00]\n",
      "  Bounds range     [1e+00, 1e+00]\n",
      "  RHS range        [1e+00, 1e+01]\n",
      "Found heuristic solution: objective 19250.000000\n",
      "Presolve removed 62 rows and 16 columns\n",
      "Presolve time: 0.00s\n",
      "Presolved: 21 rows, 55 columns, 137 nonzeros\n",
      "Variable types: 0 continuous, 55 integer (54 binary)\n",
      "\n",
      "Root relaxation: objective 8.800000e+03, 7 iterations, 0.00 seconds (0.00 work units)\n",
      "\n",
      "    Nodes    |    Current Node    |     Objective Bounds      |     Work\n",
      " Expl Unexpl |  Obj  Depth IntInf | Incumbent    BestBd   Gap | It/Node Time\n",
      "\n",
      "     0     0 8800.00000    0    2 19250.0000 8800.00000  54.3%     -    0s\n",
      "H    0     0                    8800.0000000 8800.00000  0.00%     -    0s\n",
      "     0     0 8800.00000    0    2 8800.00000 8800.00000  0.00%     -    0s\n",
      "\n",
      "Explored 1 nodes (7 simplex iterations) in 0.01 seconds (0.00 work units)\n",
      "Thread count was 8 (of 8 available processors)\n",
      "\n",
      "Solution count 2: 8800 19250 \n",
      "\n",
      "Optimal solution found (tolerance 1.00e-04)\n",
      "Best objective 8.800000000000e+03, best bound 8.800000000000e+03, gap 0.0000%\n"
     ]
    }
   ],
   "source": [
    "P = 10\n",
    "Q = 6\n",
    "\n",
    "vCustos = [\n",
    "    [16750, 3200, 8220, 9780, 8120, 30800], \n",
    "    [14600, 15520, 11640, 600, 3465, 13200],\n",
    "    [19250, 19200, 17100, 3000, 6650, 8800],\n",
    "    [3800, 10840, 6516, 6270, 4655, 25531],\n",
    "    [9220, 13168, 8400, 3048, 2177, 19767],\n",
    "    [16750, 3200, 8220, 9780, 8120, 30800],\n",
    "    [14600, 15520, 11640, 600, 3465, 13200],\n",
    "    [19250, 19200, 17100, 3000, 6650, 8800],\n",
    "    [3800, 10840, 6516, 6270, 4655, 25531],\n",
    "    [9220, 13168, 8400, 3048, 2177, 19767],\n",
    "]\n",
    "\n",
    "vDemanda = [10, 8, 12, 6, 7, 11]\n",
    "\n",
    "vCapacidade = [18, 24, 27, 22, 31, 18, 24, 40, 22, 31]\n",
    "\n",
    "vCustoFixo = [7650, 3500, 5000, 4100, 2200, 8000, 350, 5000, 410, 220]\n",
    "\n",
    "# Adicionando os dados em lsitas e dicionários\n",
    "CDs = list()\n",
    "\n",
    "for i in range(P):\n",
    "    CDs.append(f'CD{i + 1}')\n",
    "\n",
    "cidades = list()\n",
    "\n",
    "for i in range(Q):\n",
    "    cidades.append(f'cidade{i + 1}')\n",
    "\n",
    "custos = dict()\n",
    "\n",
    "for i in range(P):\n",
    "    for j in range(Q):\n",
    "        inP = CDs[i]\n",
    "        inQ = cidades[j]\n",
    "        custos[inP, inQ] = vCustos[i][j]\n",
    "\n",
    "demanda = dict()\n",
    "\n",
    "for i in range(Q):\n",
    "    aux = cidades[i]\n",
    "    demanda[aux] = vDemanda[i]\n",
    "\n",
    "capacidade = dict()\n",
    "custoFixo = dict()\n",
    "\n",
    "for i in range(P):\n",
    "    aux = CDs[i]\n",
    "    capacidade[aux] = vCapacidade[i]\n",
    "    custoFixo[aux] = vCustoFixo[i]\n",
    "\n",
    "m1 = gp.Model()\n",
    "\n",
    "# Variáveis do problema\n",
    "x = m1.addVars(CDs, cidades, vtype=gp.GRB.BINARY)\n",
    "y = m1.addVars(CDs, vtype=gp.GRB.BINARY)\n",
    "r = m1.addVar(vtype=GRB.INTEGER, lb=0)\n",
    "\n",
    "# Função Objetivo do problema \n",
    "m1.setObjective(r, GRB.MINIMIZE)\n",
    "\n",
    "# Restrições do problema\n",
    "m1.addConstrs((r >= gp.quicksum(custos[i, j] * x[i, j] for i in CDs) for j in cidades))\n",
    "m1.addConstrs((x[i, j] <= y[i] for i in CDs for j in cidades))\n",
    "m1.addConstrs((gp.quicksum(x[i, j] for i in CDs) == 1 for j in cidades))\n",
    "m1.addConstrs((gp.quicksum(demanda[j] * x[i, j] for j in cidades) <= capacidade[i] * y[i] for i in CDs))\n",
    "m1.addConstr(gp.quicksum(y[i] for i in CDs) == P)\n",
    "\n",
    "m1.optimize()"
   ]
  },
  {
   "cell_type": "markdown",
   "metadata": {},
   "source": [
    "----\n",
    "\n",
    "<h2 style=\"color: #A5FAB0;font-weight: bold\">Instância 3</h2> "
   ]
  },
  {
   "cell_type": "code",
   "execution_count": 4,
   "metadata": {},
   "outputs": [
    {
     "name": "stdout",
     "output_type": "stream",
     "text": [
      "Gurobi Optimizer version 10.0.2 build v10.0.2rc0 (win64)\n",
      "\n",
      "CPU model: Intel(R) Core(TM) i7-9700KF CPU @ 3.60GHz, instruction set [SSE2|AVX|AVX2]\n",
      "Thread count: 8 physical cores, 8 logical processors, using up to 8 threads\n",
      "\n",
      "Optimize a model with 82 rows, 71 columns and 316 nonzeros\n",
      "Model fingerprint: 0x7aadfa7e\n",
      "Variable types: 0 continuous, 71 integer (70 binary)\n",
      "Coefficient statistics:\n",
      "  Matrix range     [1e+00, 3e+04]\n",
      "  Objective range  [1e+00, 1e+00]\n",
      "  Bounds range     [1e+00, 1e+00]\n",
      "  RHS range        [1e+00, 1e+00]\n",
      "Found heuristic solution: objective 25531.000000\n",
      "Presolve removed 61 rows and 18 columns\n",
      "Presolve time: 0.00s\n",
      "Presolved: 21 rows, 53 columns, 135 nonzeros\n",
      "Variable types: 0 continuous, 53 integer (52 binary)\n",
      "\n",
      "Root relaxation: objective 8.800000e+03, 7 iterations, 0.00 seconds (0.00 work units)\n",
      "\n",
      "    Nodes    |    Current Node    |     Objective Bounds      |     Work\n",
      " Expl Unexpl |  Obj  Depth IntInf | Incumbent    BestBd   Gap | It/Node Time\n",
      "\n",
      "*    0     0               0    8800.0000000 8800.00000  0.00%     -    0s\n",
      "\n",
      "Explored 1 nodes (7 simplex iterations) in 0.04 seconds (0.00 work units)\n",
      "Thread count was 8 (of 8 available processors)\n",
      "\n",
      "Solution count 2: 8800 25531 \n",
      "\n",
      "Optimal solution found (tolerance 1.00e-04)\n",
      "Best objective 8.800000000000e+03, best bound 8.800000000000e+03, gap 0.0000%\n"
     ]
    }
   ],
   "source": [
    "P = 10\n",
    "Q = 6\n",
    "\n",
    "vCustos = [\n",
    "    [16750, 3200, 8220, 9780, 8120, 30800], \n",
    "    [14600, 15520, 11640, 600, 3465, 13200],\n",
    "    [19250, 19200, 17100, 3000, 6650, 8800],\n",
    "    [3800, 10840, 6516, 6270, 4655, 25531],\n",
    "    [9220, 13168, 8400, 3048, 2177, 19767],\n",
    "    [16750, 3200, 8220, 9780, 8120, 30800],\n",
    "    [14600, 15520, 11640, 600, 3465, 13200],\n",
    "    [19250, 19200, 17100, 3000, 6650, 8800],\n",
    "    [3800, 10840, 6516, 6270, 4655, 25531],\n",
    "    [9220, 13168, 8400, 3048, 2177, 19767],\n",
    "]\n",
    "\n",
    "vDemanda = [20, 16, 24, 12, 14, 22]\n",
    "\n",
    "vCapacidade = [18, 24, 27, 22, 31, 18, 24, 40, 22, 31]\n",
    "\n",
    "vCustoFixo = [7650, 3500, 5000, 4100, 2200, 8000, 350, 5000, 410, 220]\n",
    "\n",
    "# Adicionando os dados em lsitas e dicionários\n",
    "CDs = list()\n",
    "\n",
    "for i in range(P):\n",
    "    CDs.append(f'CD{i + 1}')\n",
    "\n",
    "cidades = list()\n",
    "\n",
    "for i in range(Q):\n",
    "    cidades.append(f'cidade{i + 1}')\n",
    "\n",
    "custos = dict()\n",
    "\n",
    "for i in range(P):\n",
    "    for j in range(Q):\n",
    "        inP = CDs[i]\n",
    "        inQ = cidades[j]\n",
    "        custos[inP, inQ] = vCustos[i][j]\n",
    "\n",
    "demanda = dict()\n",
    "\n",
    "for i in range(Q):\n",
    "    aux = cidades[i]\n",
    "    demanda[aux] = vDemanda[i]\n",
    "\n",
    "capacidade = dict()\n",
    "custoFixo = dict()\n",
    "\n",
    "for i in range(P):\n",
    "    aux = CDs[i]\n",
    "    capacidade[aux] = vCapacidade[i]\n",
    "    custoFixo[aux] = vCustoFixo[i]\n",
    "\n",
    "m = gp.Model()\n",
    "\n",
    "# Variáveis do problema\n",
    "x = m.addVars(CDs, cidades, vtype=gp.GRB.BINARY)\n",
    "y = m.addVars(CDs, vtype=gp.GRB.BINARY)\n",
    "r = m.addVar(vtype=GRB.INTEGER, lb=0)\n",
    "\n",
    "# Função Objetivo do problema \n",
    "m.setObjective(r, GRB.MINIMIZE)\n",
    "\n",
    "# Restrições do problema\n",
    "m.addConstrs((r >= gp.quicksum(custos[i, j] * x[i, j] for i in CDs) for j in cidades))\n",
    "m.addConstrs((x[i, j] <= y[i] for i in CDs for j in cidades))\n",
    "m.addConstrs((gp.quicksum(x[i, j] for i in CDs) == 1 for j in cidades))\n",
    "m.addConstrs((gp.quicksum(demanda[j] * x[i, j] for j in cidades) <= capacidade[i] * y[i] for i in CDs))\n",
    "#m.addConstr(gp.quicksum(y[i] for i in CDs) <= P)\n",
    "\n",
    "m.optimize()"
   ]
  },
  {
   "cell_type": "markdown",
   "metadata": {},
   "source": [
    "----\n",
    "\n",
    "<h2 style=\"color: #A5FAB0;font-weight: bold\">Instância 4</h2> "
   ]
  },
  {
   "cell_type": "code",
   "execution_count": 5,
   "metadata": {},
   "outputs": [
    {
     "name": "stdout",
     "output_type": "stream",
     "text": [
      "Gurobi Optimizer version 10.0.2 build v10.0.2rc0 (win64)\n",
      "\n",
      "CPU model: Intel(R) Core(TM) i7-9700KF CPU @ 3.60GHz, instruction set [SSE2|AVX|AVX2]\n",
      "Thread count: 8 physical cores, 8 logical processors, using up to 8 threads\n",
      "\n",
      "Optimize a model with 89 rows, 66 columns and 317 nonzeros\n",
      "Model fingerprint: 0x89558d70\n",
      "Variable types: 0 continuous, 66 integer (65 binary)\n",
      "Coefficient statistics:\n",
      "  Matrix range     [1e+00, 3e+04]\n",
      "  Objective range  [1e+00, 1e+00]\n",
      "  Bounds range     [1e+00, 1e+00]\n",
      "  RHS range        [1e+00, 1e+00]\n",
      "Found heuristic solution: objective 25531.000000\n",
      "Presolve removed 62 rows and 7 columns\n",
      "Presolve time: 0.00s\n",
      "Presolved: 27 rows, 59 columns, 154 nonzeros\n",
      "Variable types: 0 continuous, 59 integer (58 binary)\n",
      "\n",
      "Root relaxation: objective 8.800000e+03, 19 iterations, 0.00 seconds (0.00 work units)\n",
      "\n",
      "    Nodes    |    Current Node    |     Objective Bounds      |     Work\n",
      " Expl Unexpl |  Obj  Depth IntInf | Incumbent    BestBd   Gap | It/Node Time\n",
      "\n",
      "     0     0 8800.00000    0    4 25531.0000 8800.00000  65.5%     -    0s\n",
      "H    0     0                    8800.0000000 8800.00000  0.00%     -    0s\n",
      "     0     0 8800.00000    0    4 8800.00000 8800.00000  0.00%     -    0s\n",
      "\n",
      "Explored 1 nodes (19 simplex iterations) in 0.02 seconds (0.00 work units)\n",
      "Thread count was 8 (of 8 available processors)\n",
      "\n",
      "Solution count 2: 8800 25531 \n",
      "\n",
      "Optimal solution found (tolerance 1.00e-04)\n",
      "Best objective 8.800000000000e+03, best bound 8.800000000000e+03, gap 0.0000%\n"
     ]
    }
   ],
   "source": [
    "P = 5\n",
    "Q = 12\n",
    "\n",
    "vCustos = [\n",
    "    [16750, 3200, 8220, 9780, 8120, 30800, 16750, 3200, 8220, 9780, 8120, 30800], \n",
    "    [14600, 15520, 11640, 600, 3465, 13200, 14600, 15520, 11640, 600, 3465, 13200],\n",
    "    [19250, 19200, 17100, 3000, 6650, 8800, 19250, 19200, 17100, 3000, 6650, 8800],\n",
    "    [3800, 10840, 6516, 6270, 4655, 25531, 3800, 10840, 6516, 6270, 4655, 25531],\n",
    "    [9220, 13168, 8400, 3048, 2177, 19767, 9220, 13168, 8400, 3048, 2177, 19767]\n",
    "]\n",
    "\n",
    "vDemanda = [10, 8, 12, 6, 7, 11, 10, 8, 12, 6, 7, 11]\n",
    "\n",
    "vCapacidade = [18, 24, 27, 22, 31]\n",
    "\n",
    "vCustoFixo = [7650, 3500, 5000, 4100, 2200]\n",
    "\n",
    "# Adicionando os dados em lsitas e dicionários\n",
    "CDs = list()\n",
    "\n",
    "for i in range(P):\n",
    "    CDs.append(f'CD{i + 1}')\n",
    "\n",
    "cidades = list()\n",
    "\n",
    "for i in range(Q):\n",
    "    cidades.append(f'cidade{i + 1}')\n",
    "\n",
    "custos = dict()\n",
    "\n",
    "for i in range(P):\n",
    "    for j in range(Q):\n",
    "        inP = CDs[i]\n",
    "        inQ = cidades[j]\n",
    "        custos[inP, inQ] = vCustos[i][j]\n",
    "\n",
    "demanda = dict()\n",
    "\n",
    "for i in range(Q):\n",
    "    aux = cidades[i]\n",
    "    demanda[aux] = vDemanda[i]\n",
    "\n",
    "capacidade = dict()\n",
    "custoFixo = dict()\n",
    "\n",
    "for i in range(P):\n",
    "    aux = CDs[i]\n",
    "    capacidade[aux] = vCapacidade[i]\n",
    "    custoFixo[aux] = vCustoFixo[i]\n",
    "\n",
    "m = gp.Model()\n",
    "\n",
    "# Variáveis do problema\n",
    "x = m.addVars(CDs, cidades, vtype=gp.GRB.BINARY)\n",
    "y = m.addVars(CDs, vtype=gp.GRB.BINARY)\n",
    "r = m.addVar(vtype=GRB.INTEGER, lb=0)\n",
    "\n",
    "# Função Objetivo do problema \n",
    "m.setObjective(r, GRB.MINIMIZE)\n",
    "\n",
    "# Restrições do problema\n",
    "m.addConstrs((r >= gp.quicksum(custos[i, j] * x[i, j] for i in CDs) for j in cidades))\n",
    "m.addConstrs((x[i, j] <= y[i] for i in CDs for j in cidades))\n",
    "m.addConstrs((gp.quicksum(x[i, j] for i in CDs) == 1 for j in cidades))\n",
    "m.addConstrs((gp.quicksum(demanda[j] * x[i, j] for j in cidades) <= capacidade[i] * y[i] for i in CDs))\n",
    "#m.addConstr(gp.quicksum(y[i] for i in CDs) <= P)\n",
    "\n",
    "m.optimize()"
   ]
  },
  {
   "cell_type": "markdown",
   "metadata": {},
   "source": [
    "Devido ao fato de que o número de cidades dobrou, percebe-se que o problema tornou-se mais complexo, exigindo mais interações até chegar na solução ótima"
   ]
  },
  {
   "cell_type": "markdown",
   "metadata": {},
   "source": [
    "----\n",
    "\n",
    "<h2 style=\"color: #A5FAB0;font-weight: bold\">O Problema dos P centros na literatura/h2> "
   ]
  },
  {
   "cell_type": "markdown",
   "metadata": {},
   "source": [
    "<h2 style=\"color: #A5FAB0;font-size: 24px\">\n",
    "Problema 1\n",
    "</h2> "
   ]
  },
  {
   "cell_type": "markdown",
   "metadata": {},
   "source": [
    "Podem haver algumas variações, porém como métodos muito similares, como é o caso de um estudo envolvendo o problema dos P centros onde o objetivo era minimizar a distância entre as facilidades de tratamento da dengue e os focos da doença."
   ]
  },
  {
   "cell_type": "markdown",
   "metadata": {},
   "source": [
    "### Variáveis"
   ]
  },
  {
   "cell_type": "markdown",
   "metadata": {},
   "source": [
    "$x_{ij}$ : Variável binária que indica se o nó j está alocado no centro i\n",
    "\n",
    "$d_{ij}$ : Distância entre os nós\n",
    "\n",
    "$dMax$ : Maior distância associada a um foco de doença e sua respectiva facilidade"
   ]
  },
  {
   "cell_type": "markdown",
   "metadata": {},
   "source": [
    "#### Modelagem"
   ]
  },
  {
   "cell_type": "markdown",
   "metadata": {},
   "source": [
    "Função Objetivo:\n",
    "\n",
    "Min z = dMax\n",
    "\n",
    "Restrições:\n",
    "\n",
    "dMax $\\geq x_{ij}d_{ij} ,i = 1,2,...,m; j = 1,2,...,n$\n",
    "\n",
    "$\\sum_{j}^{n} x_{jj}= f$\n",
    "\n",
    "$x_{ij} \\leq x_{jj}$\n",
    "\n",
    "$x_{ij} \\in$ {0,1}"
   ]
  },
  {
   "cell_type": "markdown",
   "metadata": {},
   "source": [
    "Esse problema usou a versão 11 do CPLEX da ILOG para resolução do seu problema de otimização"
   ]
  },
  {
   "cell_type": "markdown",
   "metadata": {},
   "source": [
    "<h2 style=\"color: #A5FAB0;font-size: 24px\">\n",
    "Problema 2\n",
    "</h2> "
   ]
  },
  {
   "cell_type": "markdown",
   "metadata": {},
   "source": [
    "Outro exemplo de variação do problema é o de Localização de Facilidades de P-centros para emergências em larga escala. A literatura mostra que sobre a importância da existência de facilidades de serviços de emergência, como ambulâncias, quarteis de corpo de bombeiros e etc, e como a pesquisa operacional pode solucionar esse por meio da implementação do modelo a seguir."
   ]
  },
  {
   "cell_type": "markdown",
   "metadata": {},
   "source": [
    "### Variáveis"
   ]
  },
  {
   "cell_type": "markdown",
   "metadata": {},
   "source": [
    "$x_{ij}$ : Variável binária se o nó i é atendido pela facilidade do nó j\n",
    "\n",
    "$y_{j}$ : Variável binária se a facilidade está no nó j\n",
    "\n",
    "p : número de facilidades que serão alocadas\n",
    "\n",
    "$x_{jj}$ : Quantidade de nós com um consumidor i e uma facilidade j instalados no mesmo lugar\n",
    "\n",
    "$\\omega_{i}$ : Peso da distância ao nó i"
   ]
  },
  {
   "cell_type": "markdown",
   "metadata": {},
   "source": [
    "### Modelagem"
   ]
  },
  {
   "cell_type": "markdown",
   "metadata": {},
   "source": [
    "#### Função Objetivo\n",
    "\n",
    "Min Z\n",
    "\n",
    "#### Restrições\n",
    "\n",
    "$\\sum_{n}{j=1} x_{ij = 1}$ $\\forall i \\in N$\n",
    "\n",
    "$x_{ij} \\leq y_{i}$ $\\forall i,j \\in N$\n",
    "\n",
    "$\\sum_{n}{j=1} y_{i} = p$\n",
    "\n",
    "$\\sum_{n}{j=1} \\omega_{i}d_{ij}x_{ij} \\leq Z$ $\\forall i \\in N$\n",
    "\n",
    "$x_{jj} = 0$ $\\forall j \\in N$\n",
    "\n",
    "$x_{ij},y_{i} \\in$ {0,1} $\\forall i,j \\in N$"
   ]
  },
  {
   "cell_type": "markdown",
   "metadata": {},
   "source": [
    "Para a resolução desse problema foi utilizada a versão 9.1 do ILOG CPLEX"
   ]
  },
  {
   "cell_type": "markdown",
   "metadata": {},
   "source": [
    "<h2 style=\"color: #A5FAB0;font-size: 24px\">\n",
    "Referências bibliográficas\n",
    "</h2> \n",
    "\n",
    "Huang, R., Kim, S. and Menezes, M.B., 2010. Facility location for large-scale emergencies. Annals of Operations Research, 181, pp.271-286.\n",
    "\n",
    "Junior, R.R. and Santos, L.B.L., ANÁLISE ITERATIVA DOS PROBLEMAS DE P-CENTROS E P-MEDIANAS PARA UM CRESCENTE NÚMERO DE FACILIDADES: ESTUDO DE CASO NA EPIDEMIA DE DENGUE, SALVADOR, 1995. In 9th Brazilian Conference on Dynamics Control and Their Applications.\n"
   ]
  }
 ],
 "metadata": {
  "kernelspec": {
   "display_name": "base",
   "language": "python",
   "name": "python3"
  },
  "language_info": {
   "codemirror_mode": {
    "name": "ipython",
    "version": 3
   },
   "file_extension": ".py",
   "mimetype": "text/x-python",
   "name": "python",
   "nbconvert_exporter": "python",
   "pygments_lexer": "ipython3",
   "version": "3.10.11"
  }
 },
 "nbformat": 4,
 "nbformat_minor": 2
}
